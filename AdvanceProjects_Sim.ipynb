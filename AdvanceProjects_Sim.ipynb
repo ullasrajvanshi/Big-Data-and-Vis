{
 "cells": [
  {
   "cell_type": "markdown",
   "metadata": {},
   "source": [
    "## CIE5603: Advanced Projects on GRS"
   ]
  },
  {
   "cell_type": "code",
   "execution_count": 1,
   "metadata": {},
   "outputs": [],
   "source": [
    "# Creating video \n",
    "# Importing all the libraries \n",
    "import numpy as np\n",
    "import rasterio\n",
    "from scipy.io import loadmat\n",
    "import matplotlib.pyplot as plt\n",
    "import matplotlib.colorbar as colorbar\n",
    "from datetime import date, datetime\n",
    "import matplotlib.colors as colors\n",
    "import matplotlib.animation as animation\n",
    "from matplotlib import rcParams\n",
    "plt.rc('font', family='serif')\n",
    "# plt.rc('xtick', labelsize='x-small')\n",
    "# plt.rc('ytick', labelsize='x-small')\n",
    "# plt.rcParams.update({'font.size': 12})"
   ]
  },
  {
   "cell_type": "code",
   "execution_count": 2,
   "metadata": {},
   "outputs": [
    {
     "name": "stdout",
     "output_type": "stream",
     "text": [
      "driver GTiff\n",
      "dtype float32\n",
      "nodata None\n",
      "width 4305\n",
      "height 2845\n",
      "count 20\n",
      "crs EPSG:4326\n",
      "transform | 0.00, 0.00, 3.36|\n",
      "| 0.00,-0.00, 53.55|\n",
      "| 0.00, 0.00, 1.00|\n",
      "(20, 2845, 4305)\n"
     ]
    }
   ],
   "source": [
    "path = 'data/'\n",
    "file_in = 'merged_layer_2000_to_2019.tif'\n",
    "\n",
    "# read in file with geotiff geographic information\n",
    "src = rasterio.open(path + file_in)\n",
    "\n",
    "# print out metadata information\n",
    "for k in src.meta:\n",
    "  print(k,src.meta[k])\n",
    "\n",
    "transform = src.transform\n",
    "N = src.width\n",
    "M = src.height\n",
    "dx = transform.a\n",
    "dy = transform.e\n",
    "minx = transform.c\n",
    "maxy = transform.f\n",
    "dy = - dy\n",
    "# Read the image data, flip upside down if necessary\n",
    "LST = src.read()\n",
    "# if dy < 0:\n",
    "#   dy = -dy\n",
    "#   LST = np.flip(LST, 0)\n",
    "LST[:, :, :] = LST[:, :, :]/50\n",
    "print(LST.shape)\n",
    "\n",
    "# print(LST[18,1000,3000])"
   ]
  },
  {
   "cell_type": "code",
   "execution_count": 3,
   "metadata": {},
   "outputs": [],
   "source": [
    "ndates = LST.shape[0]\n",
    "# Generate X and Y grid locations\n",
    "x = minx + dx / 2 + dx * np.arange(N)\n",
    "y = maxy - dy / 2 - dy * np.arange(M - 1, -1, -1)"
   ]
  },
  {
   "cell_type": "code",
   "execution_count": 13,
   "metadata": {},
   "outputs": [],
   "source": [
    "# unfiltered LST data\n",
    "%matplotlib qt\n",
    "extent = [x[0], x[-1], y[0] , y[-1]]\n",
    "plt.figure(figsize=(8, 8))\n",
    "index = 17\n",
    "fig = plt.imshow(LST[index, :, :], extent=extent, cmap='jet')\n",
    "# plt.title(\n",
    "#     'LST ' + datetime.fromordinal(tsdates[:, index] - 366).strftime('%Y-%m-%d') + ' DAY ' + str(int(ts[:, index])))\n",
    "plt.colorbar(label='LST [K]')\n",
    "plt.clim(280, 300)\n",
    "# Hide the axes and remove the space around them\n",
    "# plt.axis('off')\n",
    "plt.ylabel('Latitude [o]')\n",
    "plt.xlabel('Longitude [o]')\n",
    "plt.axis('tight')\n",
    "plt.show()\n"
   ]
  },
  {
   "cell_type": "code",
   "execution_count": 16,
   "metadata": {},
   "outputs": [],
   "source": [
    "import cmocean\n",
    "frames = [] # for storing the generated images\n",
    "# Using matplotlib qt in order to see the video\n",
    "%matplotlib qt\n",
    "fig, ax=plt.subplots()\n",
    "for i in range(ndates):\n",
    "    if i < 10:\n",
    "        datenum = '200' + str(i)\n",
    "    else: \n",
    "        datenum = '20' + str(i)\n",
    "    im = plt.imshow(LST[i, :, :], extent=extent, cmap=cmocean.cm.thermal, animated=True)\n",
    "    title = ax.text(0.5,1.05,\"Land Surface Temperature (LST) for year \" + datenum, \n",
    "                        size=plt.rcParams[\"axes.titlesize\"],\n",
    "                        ha=\"center\", transform=ax.transAxes, ) \n",
    "    frames.append([im, title])\n",
    "#     frames.append([plt.imshow(LST[i, :, :], extent=extent, cmap='jet', animated=True)])\n",
    "    plt.clim(280, 300)\n",
    "plt.colorbar(label='LST [K]')\n",
    "# Hide the axes and remove the space around them\n",
    "# plt.axis('off')\n",
    "plt.axis('tight')\n",
    "plt.ylabel(r'Latitude [$\\degree$]')\n",
    "plt.xlabel(r'Longitude [$\\degree$]')\n",
    "ani = animation.ArtistAnimation(fig, frames, interval=1000, blit=False, repeat=False)\n",
    "# Uncomment below line to save the video\n",
    "# ani.save('results/LST_new_for_20_years.gif')\n",
    "plt.show()"
   ]
  },
  {
   "cell_type": "markdown",
   "metadata": {},
   "source": [
    "<div class='alert alert-warning'>\n",
    "    Run the script below for clipping raster with shapefile and saving them, otherwise move to next cell\n",
    "</div>\n"
   ]
  },
  {
   "cell_type": "code",
   "execution_count": null,
   "metadata": {},
   "outputs": [],
   "source": [
    "# Clipping raster into the shapefile and saving them\n",
    "import fiona\n",
    "import rasterio\n",
    "import rasterio.mask\n",
    "\n",
    "with fiona.open(\"shapefile/NLD_adm0.shp\", \"r\") as shapefile:\n",
    "    features = [feature[\"geometry\"] for feature in shapefile]\n",
    "\n",
    "with rasterio.open(\"data/LST_2010.tif\") as src:\n",
    "    out_image, out_transform = rasterio.mask.mask(src, features,\n",
    "                                                  crop=True)\n",
    "    out_meta = src.meta.copy()\n",
    "\n",
    "out_meta.update({\"driver\": \"GTiff\",\n",
    "                 \"height\": out_image.shape[1],\n",
    "                 \"width\": out_image.shape[2],\n",
    "                 \"transform\": out_transform})\n",
    "with rasterio.open(\"data/LST_2010_masked.tif\", \"w\", **out_meta) as dest:\n",
    "    dest.write(out_image)\n",
    "\n",
    "# Merging the layers GDAL command \n",
    "# python3 -m gdal_merge -separate -ot Float32 -of GTiff -o \"C:/Users/ullas/Desktop/Advance Projects/merged_layer_2000_to_2019.tif\" --optfile C:/Users/ullas/AppData/Local/Temp/processing_13e88a7c848f46d6aea19e794d2feff8/fbb94262af15442ca19231163256fbfe/mergeInputFiles.txt"
   ]
  },
  {
   "cell_type": "code",
   "execution_count": null,
   "metadata": {},
   "outputs": [],
   "source": [
    "# "
   ]
  }
 ],
 "metadata": {
  "kernelspec": {
   "display_name": "Python 3",
   "language": "python",
   "name": "python3"
  },
  "language_info": {
   "codemirror_mode": {
    "name": "ipython",
    "version": 3
   },
   "file_extension": ".py",
   "mimetype": "text/x-python",
   "name": "python",
   "nbconvert_exporter": "python",
   "pygments_lexer": "ipython3",
   "version": "3.7.4"
  },
  "varInspector": {
   "cols": {
    "lenName": 16,
    "lenType": 16,
    "lenVar": 40
   },
   "kernels_config": {
    "python": {
     "delete_cmd_postfix": "",
     "delete_cmd_prefix": "del ",
     "library": "var_list.py",
     "varRefreshCmd": "print(var_dic_list())"
    },
    "r": {
     "delete_cmd_postfix": ") ",
     "delete_cmd_prefix": "rm(",
     "library": "var_list.r",
     "varRefreshCmd": "cat(var_dic_list()) "
    }
   },
   "position": {
    "height": "714.85px",
    "left": "1629.23px",
    "right": "20px",
    "top": "120px",
    "width": "494.767px"
   },
   "types_to_exclude": [
    "module",
    "function",
    "builtin_function_or_method",
    "instance",
    "_Feature"
   ],
   "window_display": false
  }
 },
 "nbformat": 4,
 "nbformat_minor": 2
}
